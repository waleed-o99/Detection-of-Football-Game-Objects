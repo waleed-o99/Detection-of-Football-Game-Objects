{
  "nbformat": 4,
  "nbformat_minor": 0,
  "metadata": {
    "colab": {
      "provenance": [],
      "authorship_tag": "ABX9TyNqdvyYqg38PlCXiuQLJvnV",
      "include_colab_link": true
    },
    "kernelspec": {
      "name": "python3",
      "display_name": "Python 3"
    },
    "language_info": {
      "name": "python"
    }
  },
  "cells": [
    {
      "cell_type": "markdown",
      "metadata": {
        "id": "view-in-github",
        "colab_type": "text"
      },
      "source": [
        "<a href=\"https://colab.research.google.com/github/waleed-o99/Detection-of-Football-Game-Objects/blob/main/Detection_of_Football_Game_Objects_Using_Deep_Learning.ipynb\" target=\"_parent\"><img src=\"https://colab.research.google.com/assets/colab-badge.svg\" alt=\"Open In Colab\"/></a>"
      ]
    },
    {
      "cell_type": "markdown",
      "source": [
        "# Detection of Football Game Objects Using Deep Learning\n",
        "\n",
        "This project is based on the [YOLOv7](https://github.com/WongKinYiu/yolov7) repository by WongKinYiu.\n",
        "\n",
        "\n",
        "### **Steps Covered in this Project**\n",
        "\n",
        "To train our detector we take the following steps:\n",
        "\n",
        "\n",
        "\n",
        "*   Install YOLOv7 dependencies\n",
        "*   Login to Wandb\n",
        "*   Load custom dataset from Roboflow in YOLOv7 format\n",
        "*   Run YOLOv7 training\n",
        "*   Evaluate YOLOv7 performance\n",
        "*   Run YOLOv7 inference on test images\n",
        "*   OPTIONAL: Deployment\n",
        "\n",
        "\n"
      ],
      "metadata": {
        "id": "fIT5RJo62tnG"
      }
    },
    {
      "cell_type": "markdown",
      "source": [
        "#Install Dependencies\n",
        "\n",
        "_(Remember to choose GPU in Runtime if not already selected. Runtime --> Change Runtime Type --> Hardware accelerator --> GPU)_"
      ],
      "metadata": {
        "id": "bsvYDJPMA-uo"
      }
    },
    {
      "cell_type": "code",
      "source": [
        "# Download YOLOv7 repository and install requirements\n",
        "!git clone https://github.com/WongKinYiu/yolov7\n",
        "%cd yolov7\n",
        "!pip install -r requirements.txt"
      ],
      "metadata": {
        "id": "HhQeVlh3BLpx"
      },
      "execution_count": null,
      "outputs": []
    },
    {
      "cell_type": "markdown",
      "source": [
        "## Install `wandb` library and login"
      ],
      "metadata": {
        "id": "Sy7_3NIcVOpJ"
      }
    },
    {
      "cell_type": "code",
      "source": [
        "!pip install wandb\n",
        "!wandb login"
      ],
      "metadata": {
        "id": "SLK8m2sQUmSe"
      },
      "execution_count": null,
      "outputs": []
    },
    {
      "cell_type": "code",
      "source": [
        "# start into select project\n",
        "import wandb\n",
        "wandb.init(project=\"test\")"
      ],
      "metadata": {
        "id": "vZRcoywsjqKe"
      },
      "execution_count": null,
      "outputs": []
    },
    {
      "cell_type": "markdown",
      "source": [
        "# Download Correctly Formatted Custom Data\n",
        "\n",
        "Next, we'll download our dataset in the right format. Use the `YOLOv7 PyTorch` export. Note that this model requires YOLO TXT annotations, a custom YAML file, and organized directories. The roboflow export writes this for us and saves it in the correct spot.\n"
      ],
      "metadata": {
        "id": "hwbiOen1BfVL"
      }
    },
    {
      "cell_type": "code",
      "source": [
        "!pip install roboflow"
      ],
      "metadata": {
        "id": "TLCTbu9TVpOG"
      },
      "execution_count": null,
      "outputs": []
    },
    {
      "cell_type": "code",
      "source": [
        "# First dataset project\n",
        "\n",
        "from roboflow import Roboflow\n",
        "rf = Roboflow(api_key=\"ahqVMmM2LD8hcBXgLKtk\")\n",
        "project = rf.workspace(\"player-detection-ijftp\").project(\"football2-5vahx\")\n",
        "dataset = project.version(4).download(\"yolov7\")"
      ],
      "metadata": {
        "id": "s4SNRiYUCG29"
      },
      "execution_count": null,
      "outputs": []
    },
    {
      "cell_type": "code",
      "source": [
        "# Second dataset project\n",
        "\n",
        "from roboflow import Roboflow\n",
        "rf = Roboflow(api_key=\"ahqVMmM2LD8hcBXgLKtk\")\n",
        "project = rf.workspace(\"player-detection-ijftp\").project(\"football-zqyxh\")\n",
        "dataset = project.version(3).download(\"yolov7\")"
      ],
      "metadata": {
        "id": "1erJ37itCRB2"
      },
      "execution_count": null,
      "outputs": []
    },
    {
      "cell_type": "markdown",
      "source": [
        "Move all Data to one folder"
      ],
      "metadata": {
        "id": "yJBvpo-PMPAh"
      }
    },
    {
      "cell_type": "code",
      "source": [
        "# Move Test Images & Labels\n",
        "!mv /content/yolov7/Football2-4/test/images/* /content/yolov7/Football-3/test/images\n",
        "!mv /content/yolov7/Football2-4/test/labels/* /content/yolov7/Football-3/test/labels\n",
        "\n",
        "# Move Train Images & Labels\n",
        "!mv /content/yolov7/Football2-4/train/images/* /content/yolov7/Football-3/train/images\n",
        "!mv /content/yolov7/Football2-4/train/labels/* /content/yolov7/Football-3/train/labels\n",
        "\n",
        "# Move Valid Images & Labels\n",
        "!mv /content/yolov7/Football2-4/valid/images/* /content/yolov7/Football-3/valid/images\n",
        "!mv /content/yolov7/Football2-4/valid/labels/* /content/yolov7/Football-3/valid/labels"
      ],
      "metadata": {
        "id": "eTHaCHm6MNm4"
      },
      "execution_count": null,
      "outputs": []
    },
    {
      "cell_type": "markdown",
      "source": [
        "# Begin Custom Training\n",
        "\n",
        "We're ready to start custom training.\n",
        "\n",
        "NOTE: We will only modify one of the YOLOv7 training defaults in our example: `epochs`. We will adjust from 300 to 100 epochs in our example for speed. If you'd like to change other settings, see details in [our accompanying blog post](https://blog.roboflow.com/yolov7-custom-dataset-training-tutorial/)."
      ],
      "metadata": {
        "id": "ExipWSRENnh5"
      }
    },
    {
      "cell_type": "code",
      "source": [
        "# download COCO starting checkpoint\n",
        "%cd /content/yolov7\n",
        "!wget https://github.com/WongKinYiu/yolov7/releases/download/v0.1/yolov7_training.pt"
      ],
      "metadata": {
        "id": "qgO5bY5SOAD8"
      },
      "execution_count": null,
      "outputs": []
    },
    {
      "cell_type": "code",
      "source": [
        "# run this cell to begin training\n",
        "%cd /content/yolov7\n",
        "!python train.py --batch 16 --epochs 55 --data {dataset.location}/data.yaml --weights 'yolov7_training.pt' --device 0\n"
      ],
      "metadata": {
        "id": "6o4CBYZgjfZ9"
      },
      "execution_count": null,
      "outputs": []
    },
    {
      "cell_type": "code",
      "source": [
        "# run this cell to stop Wandb run when the train is complete\n",
        "import wandb\n",
        "wandb.finish()\n"
      ],
      "metadata": {
        "id": "RsJrJFMXl6zt"
      },
      "execution_count": null,
      "outputs": []
    },
    {
      "cell_type": "markdown",
      "source": [
        "# Evaluation\n",
        "\n",
        "We can evaluate the performance of our custom training using the provided evalution script.\n",
        "\n",
        "Note we can adjust the below custom arguments. For details, see [the arguments accepted by detect.py](https://github.com/WongKinYiu/yolov7/blob/main/detect.py#L154)."
      ],
      "metadata": {
        "id": "a-sScP39j8F6"
      }
    },
    {
      "cell_type": "code",
      "source": [
        "# Run evaluation on Image\n",
        "!python detect.py --weights runs/train/exp/weights/best.pt --conf 0.15 --source {dataset.location}/test/images\n"
      ],
      "metadata": {
        "id": "YdKXbbOwkBAB"
      },
      "execution_count": null,
      "outputs": []
    },
    {
      "cell_type": "code",
      "source": [
        "# Run evaluation On video:\n",
        "python detect.py --weights yolov7.pt --conf 0.25 --img-size 640 --source yourvideo.mp4"
      ],
      "metadata": {
        "id": "R2muMsyx1Ca-"
      },
      "execution_count": null,
      "outputs": []
    },
    {
      "cell_type": "code",
      "source": [
        "#display inference on ALL test images\n",
        "\n",
        "import glob\n",
        "from IPython.display import Image, display\n",
        "\n",
        "i = 0\n",
        "limit = 10000 # max images to print\n",
        "for imageName in glob.glob('/content/yolov7/runs/detect/exp/*.jpg'): #assuming JPG\n",
        "    if i < limit:\n",
        "      display(Image(filename=imageName))\n",
        "      print(\"\\n\")\n",
        "    i = i + 1"
      ],
      "metadata": {
        "id": "VTGYZ7makOSx"
      },
      "execution_count": null,
      "outputs": []
    },
    {
      "cell_type": "markdown",
      "source": [
        "# Reparameterize for Inference\n",
        "\n",
        "https://github.com/WongKinYiu/yolov7/blob/main/tools/reparameterization.ipynb"
      ],
      "metadata": {
        "id": "uLnMB7a_khfH"
      }
    },
    {
      "cell_type": "markdown",
      "source": [
        "# OPTIONAL: Deployment\n",
        "\n",
        "To deploy, you'll need to export your weights and save them to use later."
      ],
      "metadata": {
        "id": "ZVf7nUL2ksVF"
      }
    },
    {
      "cell_type": "code",
      "source": [
        "# optional, zip to download weights and results locally\n",
        "\n",
        "!zip -r export1.zip runs/detect\n",
        "!zip -r export.zip runs/train/exp/weights/best.pt\n",
        "!zip export.zip runs/train/exp/*"
      ],
      "metadata": {
        "id": "oStbDnk9kuo7"
      },
      "execution_count": null,
      "outputs": []
    },
    {
      "cell_type": "markdown",
      "source": [
        "# Referece"
      ],
      "metadata": {
        "id": "WXDxZkMA2RBV"
      }
    },
    {
      "cell_type": "markdown",
      "source": [
        "*   https://github.com/WongKinYiu/yolov7\n",
        "*   https://roboflow.com/annotate\n",
        "*   https://wandb.ai/site"
      ],
      "metadata": {
        "id": "QQS_Gf4l2XIJ"
      }
    }
  ]
}